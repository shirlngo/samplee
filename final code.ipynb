{
 "cells": [
  {
   "cell_type": "code",
   "execution_count": 2,
   "id": "1c8a1af3",
   "metadata": {},
   "outputs": [
    {
     "name": "stdout",
     "output_type": "stream",
     "text": [
      "C:\\Users\\USER\\hsc 4933\n"
     ]
    }
   ],
   "source": [
    "# Checking working directory - Hospital 1\n",
    "import os\n",
    "import pandas as pd\n",
    "\n",
    "current_directory = os.getcwd()\n",
    "print(current_directory)"
   ]
  },
  {
   "cell_type": "code",
   "execution_count": 3,
   "id": "808b0e85",
   "metadata": {},
   "outputs": [],
   "source": [
    "# Change working directory - Hospital 1\n",
    "new_directory_path = r'C:\\Users\\USER\\hsc 4933'\n",
    "os.chdir(new_directory_path)"
   ]
  },
  {
   "cell_type": "code",
   "execution_count": 4,
   "id": "bf6408d3",
   "metadata": {},
   "outputs": [
    {
     "name": "stdout",
     "output_type": "stream",
     "text": [
      "C:\\Users\\USER\\hsc 4933\n"
     ]
    }
   ],
   "source": [
    "updated_dir = os.getcwd()\n",
    "print(updated_dir)"
   ]
  },
  {
   "cell_type": "code",
   "execution_count": 5,
   "id": "58bbd965",
   "metadata": {},
   "outputs": [
    {
     "name": "stdout",
     "output_type": "stream",
     "text": [
      "PatientID, Readmission, StaffSatisfaction, CleanlinessSatisfaction, FoodSatisfaction, ComfortSatisfaction, CommunicationSatisfaction\n",
      "101, 1, 4, 5, 3, 4, 5\n",
      "102, 0, 3, 2, 4, 2, 3\n",
      "103, 1, 5, 4, 5, 4, 4\n",
      "104, 0, 5, 3, 5, 4, 5\n",
      "105, 1, 4, 5, 3, 4, 4\n",
      "106, 1, 2, 3, 2, 3, 3\n",
      "107, 0, 3, 2, 3, 4, 3\n",
      "108, 0, 5, 5, 4, 5, 5\n",
      "109, 1, 4, 4, 4, 4, 4\n",
      "110, 0, 3, 3, 3, 4, 3\n",
      "111, 1, 4, 5, 4, 4, 5\n",
      "112, 0, 2, 3, 2, 3, 2\n",
      "113, 1, 3, 4, 3, 4, 3\n",
      "114, 1, 3, 3, 3, 2, 3\n",
      "115, 0, 5, 4, 5, 5, 5\n",
      "116, 1, 4, 3, 4, 4, 4\n",
      "117, 0, 2, 2, 2, 3, 3\n",
      "118, 0, 5, 5, 4, 4, 5\n",
      "119, 1, 4, 4, 4, 4, 4\n",
      "120, 0, 3, 3, 3, 4, 3\n",
      "121, 1, 4, 5, 5, 4, 4\n",
      "122, 1, 3, 4, 4, 4, 3\n",
      "123, 0, 4, 3, 4, 3, 4\n",
      "124, 0, 2, 2, 2, 3, 3\n",
      "125, 1, 3, 4, 3, 4, 3\n",
      "126, 0, 4, 5, 5, 5, 5\n",
      "127, 1, 3, 4, 4, 4, 3\n",
      "128, 0, 4, 3, 4, 3, 4\n",
      "129, 0, 2, 2, 2, 3, 3\n",
      "130, 1, 3, 4, 3, 4, 3\n",
      "131, 1, 4, 5, 3, 4, 5\n",
      "132, 0, 3, 2, 4, 2, 3\n",
      "133, 1, 5, 4, 5, 4, 4\n",
      "134, 0, 5, 3, 5, 4, 5\n",
      "135, 1, 4, 5, 3, 4, 4\n",
      "136, 1, 2, 3, 2, 3, 3\n",
      "137, 0, 3, 2, 3, 4, 3\n",
      "138, 0, 5, 5, 4, 5, 5\n",
      "139, 1, 4, 4, 4, 4, 4\n",
      "140, 0, 3, 3, 3, 4, 3\n",
      "141, 1, 4, 5, 4, 4, 5\n",
      "142, 0, 2, 3, 2, 3, 2\n",
      "143, 1, 3, 4, 3, 4, 3\n",
      "144, 1, 3, 3, 3, 2, 3\n",
      "145, 0, 5, 4, 5, 5, 5\n",
      "146, 1, 4, 3, 4, 4, 4\n",
      "147, 0, 2, 2, 2, 3, 3\n",
      "148, 0, 5, 5, 4, 4, 5\n",
      "149, 1, 4, 4, 4, 4, 4\n",
      "150, 0, 3, 3, 3, 4, 3\n",
      "151, 1, 4, 5, 5, 4, 4\n",
      "152, 1, 3, 4, 4, 4, 3\n",
      "153, 0, 4, 3, 4, 3, 4\n",
      "154, 0, 2, 2, 2, 3, 3\n",
      "155, 1, 3, 4, 3, 4, 3\n",
      "156, 0, 4, 5, 5, 5, 5\n",
      "157, 1, 3, 4, 4, 4, 3\n",
      "158, 0, 4, 3, 4, 3, 4\n",
      "159, 0, 2, 2, 2, 3, 3\n",
      "160, 1, 3, 4, 3, 4, 3\n",
      "161, 1, 4, 5, 3, 4, 5\n",
      "162, 0, 3, 2, 4, 2, 3\n",
      "163, 1, 5, 4, 5, 4, 4\n",
      "164, 0, 5, 3, 5, 4, 5\n",
      "165, 1, 4, 5, 3, 4, 4\n",
      "166, 1, 2, 3, 2, 3, 3\n",
      "167, 0, 3, 2, 3, 4, 3\n",
      "168, 0, 5, 5, 4, 5, 5\n",
      "169, 1, 4, 4, 4, 4, 4\n",
      "170, 0, 3, 3, 3, 4, 3\n",
      "171, 1, 4, 5, 4, 4, 5\n",
      "172, 0, 2, 3, 2, 3, 2\n",
      "173, 1, 3, 4, 3, 4, 3\n",
      "174, 1, 3, 3, 3, 2, 3\n"
     ]
    }
   ],
   "source": [
    "file_path = r\"C:\\Users\\USER\\Downloads\\Hospital1.txt\"\n",
    "    \n",
    "try:\n",
    "    with open(file_path, \"r\") as file:\n",
    "        content = file.read()\n",
    "        print(content)\n",
    "except FileNotFoundError:\n",
    "    print(f\"File '{file_path}' not found.\")\n",
    "except IOError:\n",
    "    print(\"An error occured while reading the file.\")"
   ]
  },
  {
   "cell_type": "code",
   "execution_count": 6,
   "id": "fa4b0972",
   "metadata": {},
   "outputs": [],
   "source": [
    "# Number of patients who were readmitted - Hospital 1\n",
    "df = pd.read_csv(file_path)"
   ]
  },
  {
   "cell_type": "code",
   "execution_count": 7,
   "id": "0d7f5eaf",
   "metadata": {},
   "outputs": [
    {
     "name": "stdout",
     "output_type": "stream",
     "text": [
      "    PatientID   Readmission   StaffSatisfaction   CleanlinessSatisfaction  \\\n",
      "0         101             1                   4                         5   \n",
      "1         102             0                   3                         2   \n",
      "2         103             1                   5                         4   \n",
      "3         104             0                   5                         3   \n",
      "4         105             1                   4                         5   \n",
      "..        ...           ...                 ...                       ...   \n",
      "69        170             0                   3                         3   \n",
      "70        171             1                   4                         5   \n",
      "71        172             0                   2                         3   \n",
      "72        173             1                   3                         4   \n",
      "73        174             1                   3                         3   \n",
      "\n",
      "     FoodSatisfaction   ComfortSatisfaction   CommunicationSatisfaction  \n",
      "0                   3                     4                           5  \n",
      "1                   4                     2                           3  \n",
      "2                   5                     4                           4  \n",
      "3                   5                     4                           5  \n",
      "4                   3                     4                           4  \n",
      "..                ...                   ...                         ...  \n",
      "69                  3                     4                           3  \n",
      "70                  4                     4                           5  \n",
      "71                  2                     3                           2  \n",
      "72                  3                     4                           3  \n",
      "73                  3                     2                           3  \n",
      "\n",
      "[74 rows x 7 columns]\n"
     ]
    }
   ],
   "source": [
    "print(df)"
   ]
  },
  {
   "cell_type": "code",
   "execution_count": 8,
   "id": "49014b13",
   "metadata": {},
   "outputs": [
    {
     "name": "stdout",
     "output_type": "stream",
     "text": [
      "Index(['PatientID', ' Readmission', ' StaffSatisfaction',\n",
      "       ' CleanlinessSatisfaction', ' FoodSatisfaction', ' ComfortSatisfaction',\n",
      "       ' CommunicationSatisfaction'],\n",
      "      dtype='object')\n"
     ]
    }
   ],
   "source": [
    "print(df.columns)"
   ]
  },
  {
   "cell_type": "code",
   "execution_count": 9,
   "id": "2f338356",
   "metadata": {},
   "outputs": [
    {
     "name": "stdout",
     "output_type": "stream",
     "text": [
      "The number of patients who were readmitted were 38.\n"
     ]
    }
   ],
   "source": [
    "# Patients readmitted - Hospital 1\n",
    "patients_readmitted = df[' Readmission'].sum()\n",
    "print(f\"The number of patients who were readmitted were {patients_readmitted}.\")"
   ]
  },
  {
   "cell_type": "code",
   "execution_count": 10,
   "id": "74fb5193",
   "metadata": {},
   "outputs": [
    {
     "name": "stdout",
     "output_type": "stream",
     "text": [
      "3.5135135135135136\n"
     ]
    }
   ],
   "source": [
    "# Average satisfaction score for staff - Hospital 1\n",
    "average_satisfacation_staff = df[' StaffSatisfaction'].mean()\n",
    "print(average_satisfacation_staff)"
   ]
  },
  {
   "cell_type": "code",
   "execution_count": 11,
   "id": "71406db2",
   "metadata": {},
   "outputs": [
    {
     "name": "stdout",
     "output_type": "stream",
     "text": [
      "3.51\n"
     ]
    }
   ],
   "source": [
    "x = round(3.5135135135135136, 2)\n",
    "print(x)"
   ]
  },
  {
   "cell_type": "code",
   "execution_count": 12,
   "id": "2cff2d52",
   "metadata": {},
   "outputs": [
    {
     "name": "stdout",
     "output_type": "stream",
     "text": [
      "3.608108108108108\n"
     ]
    }
   ],
   "source": [
    "# Average satisfaction score for cleanliness - Hospital 1\n",
    "average_satisfaction_cleanliness = df[' CleanlinessSatisfaction'].mean()\n",
    "print(average_satisfaction_cleanliness)"
   ]
  },
  {
   "cell_type": "code",
   "execution_count": 13,
   "id": "a378ab46",
   "metadata": {},
   "outputs": [
    {
     "name": "stdout",
     "output_type": "stream",
     "text": [
      "3.61\n"
     ]
    }
   ],
   "source": [
    "x = round(3.608108108108108, 2)\n",
    "print(x)"
   ]
  },
  {
   "cell_type": "code",
   "execution_count": 14,
   "id": "2f8c1a94",
   "metadata": {},
   "outputs": [
    {
     "name": "stdout",
     "output_type": "stream",
     "text": [
      "3.5135135135135136\n"
     ]
    }
   ],
   "source": [
    "# Average satisfaction score for food - Hospital 1\n",
    "average_satisfaction_food = df[' FoodSatisfaction'].mean()\n",
    "print(average_satisfaction_food)"
   ]
  },
  {
   "cell_type": "code",
   "execution_count": 15,
   "id": "36c50ff8",
   "metadata": {},
   "outputs": [
    {
     "name": "stdout",
     "output_type": "stream",
     "text": [
      "3.51\n"
     ]
    }
   ],
   "source": [
    "x = round(3.5135135135135136, 2)\n",
    "print(x)"
   ]
  },
  {
   "cell_type": "code",
   "execution_count": 16,
   "id": "909d674c",
   "metadata": {},
   "outputs": [
    {
     "name": "stdout",
     "output_type": "stream",
     "text": [
      "3.7162162162162162\n"
     ]
    }
   ],
   "source": [
    "# Average satisfaction for comfort - Hospital 1\n",
    "average_satisfaction_comfort = df[' ComfortSatisfaction'].mean()\n",
    "print(average_satisfaction_comfort)"
   ]
  },
  {
   "cell_type": "code",
   "execution_count": 17,
   "id": "8227cb99",
   "metadata": {},
   "outputs": [
    {
     "name": "stdout",
     "output_type": "stream",
     "text": [
      "3.72\n"
     ]
    }
   ],
   "source": [
    "x = round(3.7162162162162162, 2)\n",
    "print(x)"
   ]
  },
  {
   "cell_type": "code",
   "execution_count": 18,
   "id": "99571504",
   "metadata": {},
   "outputs": [
    {
     "name": "stdout",
     "output_type": "stream",
     "text": [
      "3.7027027027027026\n"
     ]
    }
   ],
   "source": [
    "# Average satisfaction for communication - Hospital 1\n",
    "average_satisfaction_communication = df[' CommunicationSatisfaction'].mean()\n",
    "print(average_satisfaction_communication)"
   ]
  },
  {
   "cell_type": "code",
   "execution_count": 19,
   "id": "3c84d5d1",
   "metadata": {},
   "outputs": [
    {
     "name": "stdout",
     "output_type": "stream",
     "text": [
      "3.7\n"
     ]
    }
   ],
   "source": [
    "x = round(3.7027027027027026, 2)\n",
    "print(x)"
   ]
  },
  {
   "cell_type": "code",
   "execution_count": 20,
   "id": "cf134dc4",
   "metadata": {},
   "outputs": [],
   "source": [
    "# List of satisfaction category columns - Hospital 1\n",
    "category_columns = [' StaffSatisfaction', ' CleanlinessSatisfaction', ' FoodSatisfaction', ' ComfortSatisfaction', ' CommunicationSatisfaction']"
   ]
  },
  {
   "cell_type": "code",
   "execution_count": 21,
   "id": "afeb3f32",
   "metadata": {},
   "outputs": [],
   "source": [
    "# Calculate the overall satisfaction score - Hospital 1\n",
    "df['Overall_Satisfaction'] = df[category_columns].mean(axis=1)"
   ]
  },
  {
   "cell_type": "code",
   "execution_count": 22,
   "id": "8c2a6591",
   "metadata": {},
   "outputs": [
    {
     "name": "stdout",
     "output_type": "stream",
     "text": [
      "    Overall_Satisfaction\n",
      "0                    4.2\n",
      "1                    2.8\n",
      "2                    4.4\n",
      "3                    4.4\n",
      "4                    4.0\n",
      "..                   ...\n",
      "69                   3.2\n",
      "70                   4.4\n",
      "71                   2.4\n",
      "72                   3.4\n",
      "73                   2.8\n",
      "\n",
      "[74 rows x 1 columns]\n"
     ]
    }
   ],
   "source": [
    "# Overall satisfaction scores - Hospital 1\n",
    "print(df[['Overall_Satisfaction']])"
   ]
  },
  {
   "cell_type": "code",
   "execution_count": 28,
   "id": "5ac60d9a",
   "metadata": {},
   "outputs": [],
   "source": [
    "# Importing\n",
    "import pandas as pd\n",
    "import matplotlib.pyplot as plt\n",
    "from sklearn.linear_model import LogisticRegression\n",
    "X = df[['Overall_Satisfaction']]\n",
    "Y = df[' Readmission']\n",
    "log_reg = LogisticRegression().fit(X, Y)"
   ]
  },
  {
   "cell_type": "code",
   "execution_count": 38,
   "id": "db3babc2",
   "metadata": {},
   "outputs": [
    {
     "ename": "KeyError",
     "evalue": "'Overall_Satisfaction'",
     "output_type": "error",
     "traceback": [
      "\u001b[1;31m---------------------------------------------------------------------------\u001b[0m",
      "\u001b[1;31mKeyError\u001b[0m                                  Traceback (most recent call last)",
      "File \u001b[1;32m~\\anaconda3\\Lib\\site-packages\\pandas\\core\\indexes\\base.py:3802\u001b[0m, in \u001b[0;36mIndex.get_loc\u001b[1;34m(self, key, method, tolerance)\u001b[0m\n\u001b[0;32m   3801\u001b[0m \u001b[38;5;28;01mtry\u001b[39;00m:\n\u001b[1;32m-> 3802\u001b[0m     \u001b[38;5;28;01mreturn\u001b[39;00m \u001b[38;5;28mself\u001b[39m\u001b[38;5;241m.\u001b[39m_engine\u001b[38;5;241m.\u001b[39mget_loc(casted_key)\n\u001b[0;32m   3803\u001b[0m \u001b[38;5;28;01mexcept\u001b[39;00m \u001b[38;5;167;01mKeyError\u001b[39;00m \u001b[38;5;28;01mas\u001b[39;00m err:\n",
      "File \u001b[1;32m~\\anaconda3\\Lib\\site-packages\\pandas\\_libs\\index.pyx:138\u001b[0m, in \u001b[0;36mpandas._libs.index.IndexEngine.get_loc\u001b[1;34m()\u001b[0m\n",
      "File \u001b[1;32m~\\anaconda3\\Lib\\site-packages\\pandas\\_libs\\index.pyx:165\u001b[0m, in \u001b[0;36mpandas._libs.index.IndexEngine.get_loc\u001b[1;34m()\u001b[0m\n",
      "File \u001b[1;32mpandas\\_libs\\hashtable_class_helper.pxi:5745\u001b[0m, in \u001b[0;36mpandas._libs.hashtable.PyObjectHashTable.get_item\u001b[1;34m()\u001b[0m\n",
      "File \u001b[1;32mpandas\\_libs\\hashtable_class_helper.pxi:5753\u001b[0m, in \u001b[0;36mpandas._libs.hashtable.PyObjectHashTable.get_item\u001b[1;34m()\u001b[0m\n",
      "\u001b[1;31mKeyError\u001b[0m: 'Overall_Satisfaction'",
      "\nThe above exception was the direct cause of the following exception:\n",
      "\u001b[1;31mKeyError\u001b[0m                                  Traceback (most recent call last)",
      "Cell \u001b[1;32mIn[38], line 3\u001b[0m\n\u001b[0;32m      1\u001b[0m \u001b[38;5;66;03m# Data set\u001b[39;00m\n\u001b[0;32m      2\u001b[0m data \u001b[38;5;241m=\u001b[39m {\n\u001b[1;32m----> 3\u001b[0m     \u001b[38;5;124m'\u001b[39m\u001b[38;5;124mOverall Satisfication\u001b[39m\u001b[38;5;124m'\u001b[39m: [df[\u001b[38;5;124m'\u001b[39m\u001b[38;5;124mOverall_Satisfaction\u001b[39m\u001b[38;5;124m'\u001b[39m]], \n\u001b[0;32m      4\u001b[0m     \u001b[38;5;124m'\u001b[39m\u001b[38;5;124mReadmission\u001b[39m\u001b[38;5;124m'\u001b[39m: [df[\u001b[38;5;124m'\u001b[39m\u001b[38;5;124m Readmission\u001b[39m\u001b[38;5;124m'\u001b[39m]]\n\u001b[0;32m      5\u001b[0m }\n",
      "File \u001b[1;32m~\\anaconda3\\Lib\\site-packages\\pandas\\core\\frame.py:3807\u001b[0m, in \u001b[0;36mDataFrame.__getitem__\u001b[1;34m(self, key)\u001b[0m\n\u001b[0;32m   3805\u001b[0m \u001b[38;5;28;01mif\u001b[39;00m \u001b[38;5;28mself\u001b[39m\u001b[38;5;241m.\u001b[39mcolumns\u001b[38;5;241m.\u001b[39mnlevels \u001b[38;5;241m>\u001b[39m \u001b[38;5;241m1\u001b[39m:\n\u001b[0;32m   3806\u001b[0m     \u001b[38;5;28;01mreturn\u001b[39;00m \u001b[38;5;28mself\u001b[39m\u001b[38;5;241m.\u001b[39m_getitem_multilevel(key)\n\u001b[1;32m-> 3807\u001b[0m indexer \u001b[38;5;241m=\u001b[39m \u001b[38;5;28mself\u001b[39m\u001b[38;5;241m.\u001b[39mcolumns\u001b[38;5;241m.\u001b[39mget_loc(key)\n\u001b[0;32m   3808\u001b[0m \u001b[38;5;28;01mif\u001b[39;00m is_integer(indexer):\n\u001b[0;32m   3809\u001b[0m     indexer \u001b[38;5;241m=\u001b[39m [indexer]\n",
      "File \u001b[1;32m~\\anaconda3\\Lib\\site-packages\\pandas\\core\\indexes\\base.py:3804\u001b[0m, in \u001b[0;36mIndex.get_loc\u001b[1;34m(self, key, method, tolerance)\u001b[0m\n\u001b[0;32m   3802\u001b[0m     \u001b[38;5;28;01mreturn\u001b[39;00m \u001b[38;5;28mself\u001b[39m\u001b[38;5;241m.\u001b[39m_engine\u001b[38;5;241m.\u001b[39mget_loc(casted_key)\n\u001b[0;32m   3803\u001b[0m \u001b[38;5;28;01mexcept\u001b[39;00m \u001b[38;5;167;01mKeyError\u001b[39;00m \u001b[38;5;28;01mas\u001b[39;00m err:\n\u001b[1;32m-> 3804\u001b[0m     \u001b[38;5;28;01mraise\u001b[39;00m \u001b[38;5;167;01mKeyError\u001b[39;00m(key) \u001b[38;5;28;01mfrom\u001b[39;00m \u001b[38;5;21;01merr\u001b[39;00m\n\u001b[0;32m   3805\u001b[0m \u001b[38;5;28;01mexcept\u001b[39;00m \u001b[38;5;167;01mTypeError\u001b[39;00m:\n\u001b[0;32m   3806\u001b[0m     \u001b[38;5;66;03m# If we have a listlike key, _check_indexing_error will raise\u001b[39;00m\n\u001b[0;32m   3807\u001b[0m     \u001b[38;5;66;03m#  InvalidIndexError. Otherwise we fall through and re-raise\u001b[39;00m\n\u001b[0;32m   3808\u001b[0m     \u001b[38;5;66;03m#  the TypeError.\u001b[39;00m\n\u001b[0;32m   3809\u001b[0m     \u001b[38;5;28mself\u001b[39m\u001b[38;5;241m.\u001b[39m_check_indexing_error(key)\n",
      "\u001b[1;31mKeyError\u001b[0m: 'Overall_Satisfaction'"
     ]
    }
   ],
   "source": [
    "# Data set\n",
    "data = {\n",
    "    'Overall Satisfication': [df['Overall_Satisfaction']], \n",
    "    'Readmission': [df[' Readmission']]\n",
    "}\n"
   ]
  },
  {
   "cell_type": "code",
   "execution_count": 34,
   "id": "c5aad81a",
   "metadata": {},
   "outputs": [
    {
     "name": "stdout",
     "output_type": "stream",
     "text": [
      "                                    Overall Satisfication  \\\n",
      "count                                                   1   \n",
      "unique                                                  1   \n",
      "top     0     4.2\n",
      "1     2.8\n",
      "2     4.4\n",
      "3     4.4\n",
      "4     ...   \n",
      "freq                                                    1   \n",
      "\n",
      "                                              Readmission  \n",
      "count                                                   1  \n",
      "unique                                                  1  \n",
      "top     0     1\n",
      "1     0\n",
      "2     1\n",
      "3     0\n",
      "4     1\n",
      "5     ...  \n",
      "freq                                                    1  \n"
     ]
    }
   ],
   "source": [
    "df = pd.DataFrame(data)\n",
    "\n",
    "df_descriptive = df.describe()\n",
    "\n",
    "print(df_descriptive)"
   ]
  },
  {
   "cell_type": "code",
   "execution_count": null,
   "id": "2cdef35a",
   "metadata": {},
   "outputs": [],
   "source": []
  }
 ],
 "metadata": {
  "kernelspec": {
   "display_name": "Python 3 (ipykernel)",
   "language": "python",
   "name": "python3"
  },
  "language_info": {
   "codemirror_mode": {
    "name": "ipython",
    "version": 3
   },
   "file_extension": ".py",
   "mimetype": "text/x-python",
   "name": "python",
   "nbconvert_exporter": "python",
   "pygments_lexer": "ipython3",
   "version": "3.11.4"
  }
 },
 "nbformat": 4,
 "nbformat_minor": 5
}
